{
 "cells": [
  {
   "cell_type": "code",
   "execution_count": 1,
   "id": "9c8298d2",
   "metadata": {},
   "outputs": [
    {
     "name": "stdout",
     "output_type": "stream",
     "text": [
      "Enter the initial investment amount: 30000000\n",
      "Enter the number of years to hold the investment: 30\n",
      "Enter the Annual Percentage Rate (APR) of the T-Bill: 19\n",
      "Enter the compounding period type:\n",
      "1. Annually\n",
      "2. Semi-Annually\n",
      "3. Quarterly\n",
      "Enter your choice (1/2/3): 3\n",
      "Enter the monthly interest rate of your bank savings account: .07\n"
     ]
    },
    {
     "ename": "AttributeError",
     "evalue": "module 'pandas' has no attribute 'DataFrame'",
     "output_type": "error",
     "traceback": [
      "\u001b[1;31m---------------------------------------------------------------------------\u001b[0m",
      "\u001b[1;31mAttributeError\u001b[0m                            Traceback (most recent call last)",
      "Cell \u001b[1;32mIn[1], line 53\u001b[0m\n\u001b[0;32m     51\u001b[0m \u001b[38;5;66;03m# Creating the DataFrame to store the calculated values\u001b[39;00m\n\u001b[0;32m     52\u001b[0m data \u001b[38;5;241m=\u001b[39m {\u001b[38;5;124m\"\u001b[39m\u001b[38;5;124mValue of T-Bills with Interest\u001b[39m\u001b[38;5;124m\"\u001b[39m: [], \u001b[38;5;124m\"\u001b[39m\u001b[38;5;124mValue of Bank Saving Account\u001b[39m\u001b[38;5;124m\"\u001b[39m: []}\n\u001b[1;32m---> 53\u001b[0m optimized_investment \u001b[38;5;241m=\u001b[39m \u001b[43mpd\u001b[49m\u001b[38;5;241;43m.\u001b[39;49m\u001b[43mDataFrame\u001b[49m(data)\n\u001b[0;32m     55\u001b[0m \u001b[38;5;66;03m# Calculating the future value for each period\u001b[39;00m\n\u001b[0;32m     56\u001b[0m n \u001b[38;5;241m=\u001b[39m num_years \u001b[38;5;241m*\u001b[39m compounding_period\n",
      "\u001b[1;31mAttributeError\u001b[0m: module 'pandas' has no attribute 'DataFrame'"
     ]
    }
   ],
   "source": [
    "import pandas as pd\n",
    "\n",
    "# Prompting the user for the initial investment amount\n",
    "while True:\n",
    "    try:\n",
    "        initial_investment = float(input(\"Enter the initial investment amount: \"))\n",
    "        break\n",
    "    except ValueError:\n",
    "        print(\"Invalid input! Please enter a valid number.\")\n",
    "\n",
    "# Prompting the user for the number of years to hold the investment\n",
    "while True:\n",
    "    try:\n",
    "        num_years = int(input(\"Enter the number of years to hold the investment: \"))\n",
    "        break\n",
    "    except ValueError:\n",
    "        print(\"Invalid input! Please enter a valid number.\")\n",
    "\n",
    "# Prompting the user for the T-Bill Annual Percentage Rate (APR)\n",
    "while True:\n",
    "    try:\n",
    "        t_bill_apr = float(input(\"Enter the Annual Percentage Rate (APR) of the T-Bill: \"))\n",
    "        break\n",
    "    except ValueError:\n",
    "        print(\"Invalid input! Please enter a valid number.\")\n",
    "\n",
    "# Prompting the user for the compounding period\n",
    "while True:\n",
    "    try:\n",
    "        compounding_period = int(input(\"Enter the compounding period type:\\n\"\n",
    "                                       \"1. Annually\\n\"\n",
    "                                       \"2. Semi-Annually\\n\"\n",
    "                                       \"3. Quarterly\\n\"\n",
    "                                       \"Enter your choice (1/2/3): \"))\n",
    "        if compounding_period in [1, 2, 3]:\n",
    "            break\n",
    "        else:\n",
    "            print(\"Invalid input! Please enter 1, 2, or 3.\")\n",
    "    except ValueError:\n",
    "        print(\"Invalid input! Please enter a valid number.\")\n",
    "\n",
    "# Prompting the user for the monthly interest rate of their bank savings account\n",
    "while True:\n",
    "    try:\n",
    "        bank_interest = float(input(\"Enter the monthly interest rate of your bank savings account: \"))\n",
    "        bank_interest /= 12\n",
    "        break\n",
    "    except ValueError:\n",
    "        print(\"Invalid input! Please enter a valid number.\")\n",
    "\n",
    "# Creating the DataFrame to store the calculated values\n",
    "data = {\"Value of T-Bills with Interest\": [], \"Value of Bank Saving Account\": []}\n",
    "optimized_investment = pd.DataFrame(data)\n",
    "\n",
    "# Calculating the future value for each period\n",
    "n = num_years * compounding_period\n",
    "r = t_bill_apr / compounding_period\n",
    "fv_bonds_investment = initial_investment\n",
    "\n",
    "for period in range(1, n + 1):\n",
    "    if period == 1:\n",
    "        r_modulos = fv_bonds_investment % 25000\n",
    "    else:\n",
    "        fv_bonds_investment -= r_modulos\n",
    "        r_modulos = fv_bonds_investment % 25000\n",
    "\n",
    "    optimized_investment = optimized_investment.append({\n",
    "        \"Value of T-Bills with Interest\": fv_bonds_investment,\n",
    "        \"Value of Bank Saving Account\": r_modulos\n",
    "    }, ignore_index=True)\n",
    "\n",
    "    if r_modulos >= 25000:\n",
    "        fv_bonds_investment += 25000 * (1 + r) ** n\n",
    "        r_modulos = fv_bonds_investment % 25000\n",
    "\n",
    "# Printing the DataFrame\n",
    "print(optimized_investment)\n"
   ]
  },
  {
   "cell_type": "code",
   "execution_count": null,
   "id": "67d0520a",
   "metadata": {},
   "outputs": [],
   "source": []
  }
 ],
 "metadata": {
  "kernelspec": {
   "display_name": "Python 3 (ipykernel)",
   "language": "python",
   "name": "python3"
  },
  "language_info": {
   "codemirror_mode": {
    "name": "ipython",
    "version": 3
   },
   "file_extension": ".py",
   "mimetype": "text/x-python",
   "name": "python",
   "nbconvert_exporter": "python",
   "pygments_lexer": "ipython3",
   "version": "3.10.9"
  }
 },
 "nbformat": 4,
 "nbformat_minor": 5
}
